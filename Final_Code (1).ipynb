{
 "cells": [
  {
   "cell_type": "code",
   "execution_count": 5,
   "id": "1023ce0e",
   "metadata": {},
   "outputs": [
    {
     "name": "stdout",
     "output_type": "stream",
     "text": [
      "Enter the Normalised Pressure: 1.3116\n",
      "Enter the seat distance: 57\n",
      "The predicted H-angle is 88.00758799489459 degrees\n",
      "Steering to chest distance =  33.317012186575965\n",
      "The volume of the airbag = 4976.282763286233 ml\n"
     ]
    }
   ],
   "source": [
    "# Final Code\n",
    "import math\n",
    "chest_depth = 20\n",
    "NP_input = float(input(\"Enter the Normalised Pressure: \"))\n",
    "SD_input = float(input(\"Enter the seat distance: \"))\n",
    "if NP_input<=1.25:\n",
    "    a = 2.01086826e+02\n",
    "    b = 2.15249831e-03\n",
    "    c = -0.8702305695556705\n",
    "    H_angle_pred = a/(NP_input-b*SD_input-c)\n",
    "    error = 4.86717\n",
    "else:\n",
    "    a = 182\n",
    "    b = 0.0096245\n",
    "    c = -1.305\n",
    "    H_angle_pred = a/(NP_input-b*SD_input-c)\n",
    "    error = 4.37577\n",
    "    \n",
    "print(\"The predicted H-angle is\", H_angle_pred, \"degrees\") \n",
    "Steering_seat = 33\n",
    "Steering_chest = SD_input - (Steering_seat/math.tan((H_angle_pred-error) * math.pi/180))-chest_depth\n",
    "print(\"Steering to chest distance = \",Steering_chest) \n",
    "Std_scd = 25.4\n",
    "std_airbag_height = 11 \n",
    "if Steering_chest < Std_scd:\n",
    "    if Std_scd - Steering_chest > 5:\n",
    "        airbag_height = 6 \n",
    "    else:\n",
    "        airbag_height = std_airbag_height - (Std_scd - Steering_chest)\n",
    "else:\n",
    "    airbag_height = 11 \n",
    "Std_airbag_radius = 12 \n",
    "Volume_airbag = math.pi * (Std_airbag_radius)**2*airbag_height\n",
    "print(\"The volume of the airbag =\", Volume_airbag , \"ml\")\n",
    "    "
   ]
  },
  {
   "cell_type": "code",
   "execution_count": null,
   "id": "9260b0af",
   "metadata": {},
   "outputs": [],
   "source": []
  }
 ],
 "metadata": {
  "kernelspec": {
   "display_name": "Python 3 (ipykernel)",
   "language": "python",
   "name": "python3"
  },
  "language_info": {
   "codemirror_mode": {
    "name": "ipython",
    "version": 3
   },
   "file_extension": ".py",
   "mimetype": "text/x-python",
   "name": "python",
   "nbconvert_exporter": "python",
   "pygments_lexer": "ipython3",
   "version": "3.9.13"
  }
 },
 "nbformat": 4,
 "nbformat_minor": 5
}
